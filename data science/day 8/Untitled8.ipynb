{
 "cells": [
  {
   "cell_type": "markdown",
   "id": "cda03cee-b175-4b1d-8c24-711e4176b121",
   "metadata": {},
   "source": [
    "INHERITENCE"
   ]
  },
  {
   "cell_type": "code",
   "execution_count": null,
   "id": "d0dce923-3355-474d-abc3-a93ee3158c0c",
   "metadata": {},
   "outputs": [],
   "source": [
    "# single inheritence\n",
    "\n",
    "class A:\n",
    "\n",
    "    def i_am_a():\n",
    "        print('I am a Func of Class A')\n",
    "\n",
    "    def i_am_b():\n",
    "        print('I am b Func of Class B')\n",
    "\n",
    "\n",
    "class B:\n",
    "\n",
    "    def i_am_b():\n",
    "        print('I am b Func of Class B')"
   ]
  },
  {
   "cell_type": "code",
   "execution_count": 6,
   "id": "6043aabc-529e-44e5-af70-2b83a747f473",
   "metadata": {},
   "outputs": [],
   "source": [
    "class BMW:   #parent class, main class , super class\n",
    "    def super_turbo_engine(self):\n",
    "        print('super_turbo_car fast speed')\n",
    "class AUDI(BMW):   #child class , sub class\n",
    "    def auto_pilot(self):\n",
    "        print('can run on auto pilot mode')"
   ]
  },
  {
   "cell_type": "code",
   "execution_count": 7,
   "id": "0b4f69e6-5191-49e7-b8fc-3a8635c08f31",
   "metadata": {},
   "outputs": [],
   "source": [
    "audi_r8 = AUDI()"
   ]
  },
  {
   "cell_type": "code",
   "execution_count": 8,
   "id": "afbefa7c-e965-4587-a7a0-c72d3b969419",
   "metadata": {},
   "outputs": [
    {
     "name": "stdout",
     "output_type": "stream",
     "text": [
      "can run on auto pilot mode\n"
     ]
    }
   ],
   "source": [
    "audi_r8.auto_pilot()"
   ]
  },
  {
   "cell_type": "code",
   "execution_count": 10,
   "id": "12c49a71-0e08-4ab3-88f5-f2e314267a4e",
   "metadata": {},
   "outputs": [
    {
     "name": "stdout",
     "output_type": "stream",
     "text": [
      "super_turbo_car fast speed\n"
     ]
    }
   ],
   "source": [
    "audi_r8.super_turbo_engine()"
   ]
  },
  {
   "cell_type": "code",
   "execution_count": null,
   "id": "317f97d0-0aca-4a68-a38e-71e2813ad5da",
   "metadata": {},
   "outputs": [],
   "source": [
    "audi_r8"
   ]
  },
  {
   "cell_type": "code",
   "execution_count": null,
   "id": "83c85272-2a55-49c9-9adf-607feac9b7ca",
   "metadata": {},
   "outputs": [],
   "source": []
  },
  {
   "cell_type": "markdown",
   "id": "e143282d-21b4-4726-b6b9-0c194da52a6a",
   "metadata": {},
   "source": [
    "multiple inheritence"
   ]
  },
  {
   "cell_type": "code",
   "execution_count": 38,
   "id": "d13b0d26-2158-41fd-a47c-b77726ec4327",
   "metadata": {},
   "outputs": [],
   "source": [
    "class Mobile:\n",
    "    ...\n",
    "    pass\n",
    "class Daily_object:\n",
    "    def phone_case(self):\n",
    "        print('strong build phone')\n",
    "\n",
    "class JBL:\n",
    "    def sonic_speaker(self):\n",
    "        print('high quality sound speaker')\n",
    "\n",
    "class Samsung:\n",
    "    def screen_display(self):\n",
    "        print('4k hd display')\n",
    "class Nvidia:\n",
    "    def motherboard(self):\n",
    "        print('fast motherboard')\n",
    "class Sony:\n",
    "    def camera(self):\n",
    "        print('4k camera')\n",
    "class lava:\n",
    "    def charger(self):\n",
    "        print('fast charging')\n",
    "class oneplus:\n",
    "    def charger(self):\n",
    "        print('original superfast charger')\n",
    "class Mobile(Daily_object,JBL,Samsung,Nvidia,Sony,lava,oneplus):\n",
    "    def __init__(self):\n",
    "        print('phone object created successfully')\n",
    "    def charger(self):\n",
    "        print('actual charger')\n"
   ]
  },
  {
   "cell_type": "code",
   "execution_count": 39,
   "id": "01c7ee23-c1b3-43da-9b51-b59983cf06ec",
   "metadata": {},
   "outputs": [
    {
     "name": "stdout",
     "output_type": "stream",
     "text": [
      "phone object created successfully\n"
     ]
    }
   ],
   "source": [
    "nothing = Mobile()"
   ]
  },
  {
   "cell_type": "code",
   "execution_count": 34,
   "id": "ff7aafb3-2d0f-4d76-b3fd-00485ecb5917",
   "metadata": {},
   "outputs": [
    {
     "name": "stdout",
     "output_type": "stream",
     "text": [
      "strong build phone\n"
     ]
    }
   ],
   "source": [
    "nothing.phone_case()"
   ]
  },
  {
   "cell_type": "code",
   "execution_count": 35,
   "id": "80345be5-f7d0-4030-8cb1-793348e4278a",
   "metadata": {},
   "outputs": [
    {
     "name": "stdout",
     "output_type": "stream",
     "text": [
      "4k camera\n"
     ]
    }
   ],
   "source": [
    "nothing.camera()"
   ]
  },
  {
   "cell_type": "code",
   "execution_count": 36,
   "id": "6a6d4702-0939-43d2-9b34-8695628916b8",
   "metadata": {},
   "outputs": [
    {
     "name": "stdout",
     "output_type": "stream",
     "text": [
      "4k camera\n"
     ]
    }
   ],
   "source": [
    "nothing.camera()"
   ]
  },
  {
   "cell_type": "code",
   "execution_count": 37,
   "id": "f9c9647e-ab4d-4445-b105-b19beef0e697",
   "metadata": {},
   "outputs": [
    {
     "name": "stdout",
     "output_type": "stream",
     "text": [
      "fast charging\n"
     ]
    }
   ],
   "source": [
    "nothing.charger()"
   ]
  },
  {
   "cell_type": "code",
   "execution_count": null,
   "id": "9ada6a43-62ac-40da-b0af-57bc0d7ce909",
   "metadata": {},
   "outputs": [],
   "source": [
    "nothing."
   ]
  },
  {
   "cell_type": "code",
   "execution_count": 40,
   "id": "0c95cc71-7e90-45c4-ba98-19c99f34b012",
   "metadata": {},
   "outputs": [
    {
     "name": "stdout",
     "output_type": "stream",
     "text": [
      "actual charger\n"
     ]
    }
   ],
   "source": [
    "nothing.charger()"
   ]
  },
  {
   "cell_type": "markdown",
   "id": "fdd5b967-ac27-4d01-b6df-1c0a672c67b6",
   "metadata": {},
   "source": [
    "multilevel inheritence"
   ]
  },
  {
   "cell_type": "code",
   "execution_count": 46,
   "id": "245a5ed5-249b-4685-a995-22d385e5bc40",
   "metadata": {},
   "outputs": [],
   "source": [
    "class grand_father:  #super class for all\n",
    "    def land_property(self):\n",
    "        print('land property')\n",
    "class father(grand_father):# sub class for upper and super for lower\n",
    "    def bank_balance(self):\n",
    "        print('big money player')\n",
    "class son(father):  #sub class for upper and super for lower\n",
    "    def political_power(self):\n",
    "        print('political powers')\n",
    "class grand_son(son):    #sub class for upper and super for lower\n",
    "    def mind(self):\n",
    "        prinnt('mind for self study')\n",
    "class friend(grand_son):   #sub class\n",
    "    def __init__(self):\n",
    "        print('nothing')\n",
    "\n",
    "        "
   ]
  },
  {
   "cell_type": "code",
   "execution_count": 49,
   "id": "b2463323-9aec-4bd8-8948-55f3a98575b9",
   "metadata": {},
   "outputs": [
    {
     "name": "stdout",
     "output_type": "stream",
     "text": [
      "done\n"
     ]
    }
   ],
   "source": [
    "aman = grand_son()\n",
    "print('done')"
   ]
  },
  {
   "cell_type": "code",
   "execution_count": 50,
   "id": "2c391879-10df-4fb1-ae19-2e026a1c861f",
   "metadata": {},
   "outputs": [
    {
     "name": "stdout",
     "output_type": "stream",
     "text": [
      "political powers\n"
     ]
    }
   ],
   "source": [
    "aman.political_power()"
   ]
  },
  {
   "cell_type": "code",
   "execution_count": 53,
   "id": "d1af0aed-a38b-4fd2-99e5-18b9ee55e72d",
   "metadata": {},
   "outputs": [
    {
     "name": "stdout",
     "output_type": "stream",
     "text": [
      "nothing\n"
     ]
    }
   ],
   "source": [
    "karan = friend()"
   ]
  },
  {
   "cell_type": "code",
   "execution_count": 54,
   "id": "440c3ed5-0ca1-4ce1-968b-61dd5804a955",
   "metadata": {},
   "outputs": [
    {
     "name": "stdout",
     "output_type": "stream",
     "text": [
      "land property\n"
     ]
    }
   ],
   "source": [
    "karan.land_property()"
   ]
  },
  {
   "cell_type": "markdown",
   "id": "863b36b7-2d23-4018-9d91-a286f73f96bb",
   "metadata": {},
   "source": [
    "Hybrid inheritence"
   ]
  },
  {
   "cell_type": "code",
   "execution_count": 60,
   "id": "e5ffc32a-13d0-402e-a7c5-cdf6b4feeea3",
   "metadata": {},
   "outputs": [],
   "source": [
    "class Hybrid_class(Mobile,friend,AUDI):\n",
    "    def __init__(self):\n",
    "        print('this is a hybrid class')\n",
    "    def info(self):\n",
    "        print('it can call any method')"
   ]
  },
  {
   "cell_type": "code",
   "execution_count": 68,
   "id": "c690804c-8b20-43c7-8a6c-d95605c392fc",
   "metadata": {},
   "outputs": [
    {
     "name": "stdout",
     "output_type": "stream",
     "text": [
      "this is a hybrid class\n"
     ]
    }
   ],
   "source": [
    "object = Hybrid_class()"
   ]
  },
  {
   "cell_type": "code",
   "execution_count": 69,
   "id": "c00977d8-6af6-456d-876b-1a894b14557c",
   "metadata": {},
   "outputs": [
    {
     "name": "stdout",
     "output_type": "stream",
     "text": [
      "it can call any method\n"
     ]
    }
   ],
   "source": [
    "object.info()"
   ]
  },
  {
   "cell_type": "code",
   "execution_count": 70,
   "id": "fa644907-37e6-415d-a873-65d7355904ee",
   "metadata": {},
   "outputs": [
    {
     "name": "stdout",
     "output_type": "stream",
     "text": [
      "4k camera\n"
     ]
    }
   ],
   "source": [
    "object.camera()"
   ]
  },
  {
   "cell_type": "code",
   "execution_count": 71,
   "id": "87ad26a4-ccd9-4437-8b61-7d48f70b420f",
   "metadata": {},
   "outputs": [
    {
     "name": "stdout",
     "output_type": "stream",
     "text": [
      "it can call any method\n"
     ]
    }
   ],
   "source": [
    "object.info()"
   ]
  },
  {
   "cell_type": "code",
   "execution_count": 72,
   "id": "979c1d10-f151-48d1-aa9d-491ffd4bc5c7",
   "metadata": {},
   "outputs": [
    {
     "name": "stdout",
     "output_type": "stream",
     "text": [
      "fast motherboard\n"
     ]
    }
   ],
   "source": [
    "object.motherboard()"
   ]
  },
  {
   "cell_type": "markdown",
   "id": "4000b84d-2ca8-4dd8-8c00-aa7f5e2c838e",
   "metadata": {},
   "source": [
    "Hybrid inheritence"
   ]
  },
  {
   "cell_type": "code",
   "execution_count": 76,
   "id": "9f4e79a1-8421-45a7-b12e-789205418507",
   "metadata": {},
   "outputs": [],
   "source": [
    "class UGC:\n",
    "    def __init__(self):\n",
    "        print('grannt permission')\n",
    "    def college_approved(self):\n",
    "        print('college  has been approved')\n",
    "class DU(UGC):\n",
    "    def multiple_college(self):\n",
    "        print('list of colleges')\n",
    "class IP(UGC):\n",
    "    def multiple_college(self):\n",
    "        print('list of colleges')\n",
    "class DTU(UGC):\n",
    "    def multiple_coleges(self):\n",
    "        print('list of colleges')\n",
    "class BHU(UGC):\n",
    "    def multiple_colleges(self):\n",
    "        print('list of colleges')\n",
    "        "
   ]
  },
  {
   "cell_type": "markdown",
   "id": "f4aae485-6b59-43a5-9171-f79c5514a4cc",
   "metadata": {},
   "source": [
    "Polymorphism"
   ]
  },
  {
   "cell_type": "code",
   "execution_count": 77,
   "id": "36659807-d6f1-4853-8b65-ab9431248eca",
   "metadata": {},
   "outputs": [
    {
     "data": {
      "text/plain": [
       "4"
      ]
     },
     "execution_count": 77,
     "metadata": {},
     "output_type": "execute_result"
    }
   ],
   "source": [
    " a = 'jass'\n",
    "len(a)"
   ]
  },
  {
   "cell_type": "code",
   "execution_count": 78,
   "id": "2bff1f1f-3f87-4aae-acee-7df0609c9ddc",
   "metadata": {},
   "outputs": [
    {
     "data": {
      "text/plain": [
       "2"
      ]
     },
     "execution_count": 78,
     "metadata": {},
     "output_type": "execute_result"
    }
   ],
   "source": [
    "a = ['jass','vr']\n",
    "len(a)"
   ]
  },
  {
   "cell_type": "code",
   "execution_count": 82,
   "id": "6fcdaf26-3f2d-4052-9c33-b56deed59e06",
   "metadata": {},
   "outputs": [
    {
     "data": {
      "text/plain": [
       "3"
      ]
     },
     "execution_count": 82,
     "metadata": {},
     "output_type": "execute_result"
    }
   ],
   "source": [
    "def ste(a):\n",
    "    return str(a)\n",
    "a = ste(567)\n",
    "len(a)"
   ]
  },
  {
   "cell_type": "code",
   "execution_count": 84,
   "id": "b01f491e-64cb-4adf-9ddf-a20937b9c29c",
   "metadata": {},
   "outputs": [
    {
     "name": "stdout",
     "output_type": "stream",
     "text": [
      "None <class 'NoneType'>\n"
     ]
    }
   ],
   "source": [
    "a = 56\n",
    "a = '56'\n",
    "a = None\n",
    "print(a,type(a))"
   ]
  },
  {
   "cell_type": "code",
   "execution_count": 91,
   "id": "40dd19d0-8a4e-4a04-9993-a5fe4373a557",
   "metadata": {},
   "outputs": [
    {
     "name": "stdout",
     "output_type": "stream",
     "text": [
      "f1 Car Speed: max speed 500 km/hr\n",
      "f1 Car Speed: max speed 550 km/hr\n",
      "f1 Car Speed: Max speed 800 km/hr\n"
     ]
    }
   ],
   "source": [
    "class Car:\n",
    "    def speed(self):\n",
    "        return('max speed 500 km/hr')\n",
    "    def auto_pilot(self):\n",
    "         return('it supports auto pilot')\n",
    "    def info(self):\n",
    "         return('this is just a car object')\n",
    "class BMW(Car):\n",
    "    def speed(self):\n",
    "         return('max speed 550 km/hr')\n",
    "    def info(self):\n",
    "         return('A BMW car object')\n",
    "class Audi(Car):\n",
    "    def speed(self):\n",
    "         return('Max speed 800 km/hr')\n",
    "    def info(self):\n",
    "         return('A Audi Car')\n",
    "\n",
    "\n",
    "for i in [Car,BMW,Audi]:\n",
    "    f1 = i()\n",
    "    print('f1 Car Speed:',f1.speed())\n",
    "\n",
    "\n"
   ]
  },
  {
   "cell_type": "code",
   "execution_count": 104,
   "id": "c6317956-7efb-46ee-b2cd-ecec18cfd69e",
   "metadata": {},
   "outputs": [
    {
     "name": "stdout",
     "output_type": "stream",
     "text": [
      "hello I,how are you\n",
      "your address is delhi\n"
     ]
    }
   ],
   "source": [
    "class IITM:\n",
    "    def intro(self):\n",
    "        print('hello candidates')\n",
    "    def intro(self,name):\n",
    "        print(f'hello {name},how are you')\n",
    "        \n",
    "    def intro(self,name,address):\n",
    "        print(f'hello {name},how are you')\n",
    "        print(f'your address is {address}')\n",
    "\n",
    "a = IITM()\n",
    "a.intro('I','delhi')"
   ]
  },
  {
   "cell_type": "code",
   "execution_count": 116,
   "id": "fc7126d4-c57b-490c-a3ed-1dc07d8b51d2",
   "metadata": {},
   "outputs": [],
   "source": [
    "class IITM:\n",
    "    def intro(self,name = None,address = None):\n",
    "        if(name == None) and (address == None):\n",
    "            print('hello candidates')\n",
    "        elif(name != None) and (address != None):\n",
    "            print(f'hello {name},how are you')\n",
    "            print(f'your address is {address}')\n",
    "        \n",
    "        elif name != None:\n",
    "            print(f'hello {name},how are you')\n",
    "\n",
    "        else:\n",
    "            print('helllo buddy')"
   ]
  },
  {
   "cell_type": "code",
   "execution_count": 117,
   "id": "f415740f-44b7-46a6-b6a6-85bd81b20033",
   "metadata": {},
   "outputs": [],
   "source": [
    "iitm = IITM()"
   ]
  },
  {
   "cell_type": "code",
   "execution_count": 118,
   "id": "baec74b0-fa24-40b1-87d1-9a5070085834",
   "metadata": {},
   "outputs": [
    {
     "name": "stdout",
     "output_type": "stream",
     "text": [
      "hello jass,how are you\n",
      "your address is delhi\n"
     ]
    }
   ],
   "source": [
    "iitm.intro('jass','delhi')"
   ]
  },
  {
   "cell_type": "markdown",
   "id": "a29e768e-2478-4617-9272-a028047467ce",
   "metadata": {},
   "source": [
    "# Abstraction"
   ]
  },
  {
   "cell_type": "code",
   "execution_count": null,
   "id": "ae8f2fa3-012e-44b4-988b-6e044f75055c",
   "metadata": {},
   "outputs": [],
   "source": [
    "#idea\n",
    "#not a physical object"
   ]
  },
  {
   "cell_type": "code",
   "execution_count": 122,
   "id": "0b6a12bf-979f-44e2-9330-beccf5e4cb1e",
   "metadata": {},
   "outputs": [
    {
     "ename": "SyntaxError",
     "evalue": "expected ':' (3568919789.py, line 2)",
     "output_type": "error",
     "traceback": [
      "\u001b[1;36m  Cell \u001b[1;32mIn[122], line 2\u001b[1;36m\u001b[0m\n\u001b[1;33m    def login()\u001b[0m\n\u001b[1;37m               ^\u001b[0m\n\u001b[1;31mSyntaxError\u001b[0m\u001b[1;31m:\u001b[0m expected ':'\n"
     ]
    }
   ],
   "source": [
    "class Website:\n",
    "    def login()\n",
    "    def logout()\n",
    "    def signup()\n",
    "    def updates()\n",
    "    def multiple_pages():"
   ]
  },
  {
   "cell_type": "code",
   "execution_count": 126,
   "id": "77428568-8110-4b9c-87c3-cfc5db450731",
   "metadata": {},
   "outputs": [
    {
     "ename": "TypeError",
     "evalue": "Can't instantiate abstract class Website without an implementation for abstract methods 'login', 'logout'",
     "output_type": "error",
     "traceback": [
      "\u001b[1;31m---------------------------------------------------------------------------\u001b[0m",
      "\u001b[1;31mTypeError\u001b[0m                                 Traceback (most recent call last)",
      "Cell \u001b[1;32mIn[126], line 11\u001b[0m\n\u001b[0;32m      7\u001b[0m     \u001b[38;5;129m@abstractmethod\u001b[39m\n\u001b[0;32m      8\u001b[0m     \u001b[38;5;28;01mdef\u001b[39;00m\u001b[38;5;250m \u001b[39m\u001b[38;5;21mlogout\u001b[39m(\u001b[38;5;28mself\u001b[39m):\n\u001b[0;32m      9\u001b[0m         \u001b[38;5;28mprint\u001b[39m(\u001b[38;5;124m'\u001b[39m\u001b[38;5;124ma logout method\u001b[39m\u001b[38;5;124m'\u001b[39m)\n\u001b[1;32m---> 11\u001b[0m asus \u001b[38;5;241m=\u001b[39m Website()\n\u001b[0;32m     12\u001b[0m \u001b[38;5;28mprint\u001b[39m(\u001b[38;5;124m'\u001b[39m\u001b[38;5;124mdone\u001b[39m\u001b[38;5;124m'\u001b[39m)\n",
      "\u001b[1;31mTypeError\u001b[0m: Can't instantiate abstract class Website without an implementation for abstract methods 'login', 'logout'"
     ]
    }
   ],
   "source": [
    "from abc import ABC, abstractmethod\n",
    "\n",
    "class Website(ABC):\n",
    "    @abstractmethod\n",
    "    def login(self):\n",
    "        print('this is a login method')\n",
    "    @abstractmethod\n",
    "    def logout(self):\n",
    "        print('a logout method')\n",
    "\n",
    "asus = Website()\n",
    "print('done')"
   ]
  },
  {
   "cell_type": "code",
   "execution_count": 134,
   "id": "48faa37f-4f06-477b-9964-5991fc781160",
   "metadata": {},
   "outputs": [
    {
     "name": "stdout",
     "output_type": "stream",
     "text": [
      "done\n"
     ]
    }
   ],
   "source": [
    "class Nakul(Website):\n",
    "    def signup(self):\n",
    "        print('user can signup')\n",
    "    def login(self):\n",
    "        print('this is a login page')\n",
    "    def logout(self):\n",
    "        print('this is a logout page')\n",
    "\n",
    "google = Nakul()\n",
    "print('done')\n",
    "        "
   ]
  },
  {
   "cell_type": "code",
   "execution_count": 135,
   "id": "f0a1d92a-2ef2-4636-a57c-0a882481a078",
   "metadata": {},
   "outputs": [
    {
     "name": "stdout",
     "output_type": "stream",
     "text": [
      "this is a login page\n"
     ]
    }
   ],
   "source": [
    "google.login()"
   ]
  },
  {
   "cell_type": "code",
   "execution_count": 139,
   "id": "6d4cdecc-da04-49aa-a953-fbb8fc031220",
   "metadata": {},
   "outputs": [
    {
     "name": "stdout",
     "output_type": "stream",
     "text": [
      "this is a logout page\n"
     ]
    }
   ],
   "source": [
    "google.logout()"
   ]
  },
  {
   "cell_type": "code",
   "execution_count": 140,
   "id": "6fc55f63-8d1d-49a8-8981-95f229117d16",
   "metadata": {},
   "outputs": [
    {
     "name": "stdout",
     "output_type": "stream",
     "text": [
      "user can signup\n"
     ]
    }
   ],
   "source": [
    "google.signup()"
   ]
  },
  {
   "cell_type": "code",
   "execution_count": null,
   "id": "1b1c44ad-b2fe-4fde-8649-a232f8d35a8f",
   "metadata": {},
   "outputs": [],
   "source": []
  },
  {
   "cell_type": "code",
   "execution_count": null,
   "id": "4eea6c66-1013-4c80-a866-066cf6a1121e",
   "metadata": {},
   "outputs": [],
   "source": []
  },
  {
   "cell_type": "code",
   "execution_count": null,
   "id": "43eed997-16f5-4ecf-a392-d9b2cde40715",
   "metadata": {},
   "outputs": [],
   "source": []
  },
  {
   "cell_type": "code",
   "execution_count": null,
   "id": "08b8ce75-a2b4-433f-b905-73fbd261a48d",
   "metadata": {},
   "outputs": [],
   "source": []
  },
  {
   "cell_type": "code",
   "execution_count": null,
   "id": "160c0a5c-7ad7-4dc8-aaab-56efeeff82d3",
   "metadata": {},
   "outputs": [],
   "source": []
  }
 ],
 "metadata": {
  "kernelspec": {
   "display_name": "Python [conda env:base] *",
   "language": "python",
   "name": "conda-base-py"
  },
  "language_info": {
   "codemirror_mode": {
    "name": "ipython",
    "version": 3
   },
   "file_extension": ".py",
   "mimetype": "text/x-python",
   "name": "python",
   "nbconvert_exporter": "python",
   "pygments_lexer": "ipython3",
   "version": "3.13.5"
  }
 },
 "nbformat": 4,
 "nbformat_minor": 5
}
