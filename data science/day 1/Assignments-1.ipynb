{
 "cells": [
  {
   "cell_type": "markdown",
   "id": "315abd05-dca9-4dc5-b6c7-d7dff584dd47",
   "metadata": {},
   "source": [
    "### Create a monthly budget calculator for Indian household expenses.\n"
   ]
  },
  {
   "cell_type": "code",
   "execution_count": 1,
   "id": "46400536-6658-4fd7-a2e8-82ed5bd785d8",
   "metadata": {},
   "outputs": [
    {
     "name": "stdout",
     "output_type": "stream",
     "text": [
      "Indian Monthly Budget Calculator\n"
     ]
    },
    {
     "name": "stdin",
     "output_type": "stream",
     "text": [
      "Enter monthly rent:  5000\n",
      "Enter food expenses:  500\n",
      "Enter transport cost:  500\n",
      "Enter utilities (electricity, gas, water):  500\n",
      "Enter education expenses:  400\n",
      "Enter entertainment budget:  100\n"
     ]
    },
    {
     "name": "stdout",
     "output_type": "stream",
     "text": [
      "\n",
      "Budget Summary:\n",
      "Rent: ₹5,000.00\n",
      "Food: ₹500.00\n",
      "Transport: ₹500.00\n",
      "Utilities: ₹500.00\n",
      "Education: ₹400.00\n",
      "Entertainment: ₹100.00\n",
      "==============================\n",
      "Total Monthly Budget: ₹7,000.00\n"
     ]
    },
    {
     "name": "stdin",
     "output_type": "stream",
     "text": [
      "\n",
      "Enter your monthly income (₹):  10000\n"
     ]
    },
    {
     "name": "stdout",
     "output_type": "stream",
     "text": [
      "\n",
      "Great! You can save ₹3,000.00 per month.\n",
      "Annual savings potential: ₹36,000.00\n"
     ]
    }
   ],
   "source": [
    "def Indian_budget_calculator():\n",
    "    print(\"Indian Monthly Budget Calculator\")\n",
    "\n",
    "    # Input expenses\n",
    "    rent = float(input(\"Enter monthly rent: \"))\n",
    "    food = float(input(\"Enter food expenses: \"))\n",
    "    transport = float(input(\"Enter transport cost: \"))\n",
    "    utilities = float(input(\"Enter utilities (electricity, gas, water): \"))\n",
    "    education = float(input(\"Enter education expenses: \"))\n",
    "    entertainment = float(input(\"Enter entertainment budget: \"))\n",
    "\n",
    "    # Calculate total expenses\n",
    "    total_expenses = rent + food + transport + utilities + education + entertainment\n",
    "\n",
    "    # Display budget summary\n",
    "    print(\"\\nBudget Summary:\")\n",
    "    print(f\"Rent: ₹{rent:,.2f}\")\n",
    "    print(f\"Food: ₹{food:,.2f}\")\n",
    "    print(f\"Transport: ₹{transport:,.2f}\")\n",
    "    print(f\"Utilities: ₹{utilities:,.2f}\")\n",
    "    print(f\"Education: ₹{education:,.2f}\")\n",
    "    print(f\"Entertainment: ₹{entertainment:,.2f}\")\n",
    "    print(\"=\" * 30)\n",
    "    print(f\"Total Monthly Budget: ₹{total_expenses:,.2f}\")\n",
    "\n",
    "    # Savings recommendation\n",
    "    income = float(input(\"\\nEnter your monthly income (₹): \"))\n",
    "    savings = income - total_expenses\n",
    "\n",
    "    if savings > 0:\n",
    "        print(f\"\\nGreat! You can save ₹{savings:,.2f} per month.\")\n",
    "        print(f\"Annual savings potential: ₹{savings * 12:,.2f}\")\n",
    "    \n",
    "    else:\n",
    "        print(f\"\\nYou're overspending by ₹{abs(savings):,.2f}.\")\n",
    "        print(\"Consider reducing your expenses!\")\n",
    "\n",
    "# Call the function to run the calculator\n",
    "Indian_budget_calculator()\n"
   ]
  },
  {
   "cell_type": "markdown",
   "id": "2778b2ec-93ea-409a-a6a2-fda59bee07c3",
   "metadata": {},
   "source": [
    "# Voting Eligibility"
   ]
  },
  {
   "cell_type": "code",
   "execution_count": 1,
   "id": "b01a9bb4-e691-464b-9f1b-666fa8e92afa",
   "metadata": {},
   "outputs": [
    {
     "name": "stdout",
     "output_type": "stream",
     "text": [
      "Indian Voter Eligibility Checker\n"
     ]
    },
    {
     "name": "stdin",
     "output_type": "stream",
     "text": [
      "Enter name:  Jass\n",
      "Enter your age:  19\n",
      "Are you an Indian citizen? (yes/no):  yes\n"
     ]
    },
    {
     "name": "stdout",
     "output_type": "stream",
     "text": [
      "\n",
      "✔ Congratulations Jass!\n",
      "You are eligible to vote in Indian elections.\n",
      "\n",
      "📋 Next steps:\n",
      "1. Apply for Voter ID card at nearest election office\n",
      "2. Required documents: Age proof, Address proof, Identity proof\n",
      "3. You can vote in Lok Sabha, Vidhan Sabha, and local elections\n"
     ]
    }
   ],
   "source": [
    "def check_voting_eligibility():\n",
    "    print(\"Indian Voter Eligibility Checker\")\n",
    "    name = input(\"Enter name: \")\n",
    "    age = int(input(\"Enter your age: \"))\n",
    "    nationality = input(\"Are you an Indian citizen? (yes/no): \").lower()\n",
    "    \n",
    "    if age >= 18 and nationality == \"yes\":\n",
    "        print(f\"\\n✔ Congratulations {name}!\")\n",
    "        print(\"You are eligible to vote in Indian elections.\")\n",
    "        print(\"\\n📋 Next steps:\")\n",
    "        print(\"1. Apply for Voter ID card at nearest election office\")\n",
    "        print(\"2. Required documents: Age proof, Address proof, Identity proof\")\n",
    "        print(\"3. You can vote in Lok Sabha, Vidhan Sabha, and local elections\")\n",
    "    \n",
    "    elif age < 18:\n",
    "        years_left = 18 - age\n",
    "        print(f\"\\n✖ Sorry {name}, you need to wait {years_left} more year(s) to vote\")\n",
    "        print(\"You can pre-register when you turn 17!\")\n",
    "    \n",
    "    else:\n",
    "        print(\"\\n✖ Only Indian citizens can vote\")\n",
    "\n",
    "# Run the checker\n",
    "check_voting_eligibility()\n"
   ]
  },
  {
   "cell_type": "markdown",
   "id": "04e386dc-64a5-4d2b-8537-42b88b92f9b2",
   "metadata": {},
   "source": [
    "# Guess the ATM Pin"
   ]
  },
  {
   "cell_type": "code",
   "execution_count": 9,
   "id": "0c7e4566-e968-4a8a-899e-20b1962a0ab3",
   "metadata": {},
   "outputs": [
    {
     "name": "stdout",
     "output_type": "stream",
     "text": [
      "ATM PIN Security Game\n",
      "Your ATM card has been temporarily locked.\n",
      "Guess your 4-digit PIN to unlock (3 attempts only)\n",
      "Hint: Your PIN is 4229\n"
     ]
    },
    {
     "name": "stdin",
     "output_type": "stream",
     "text": [
      "Enter your PIN (Attempts left: 3):  595959\n"
     ]
    },
    {
     "name": "stdout",
     "output_type": "stream",
     "text": [
      "PIN must be exactly 4 digits!\n"
     ]
    },
    {
     "name": "stdin",
     "output_type": "stream",
     "text": [
      "Enter your PIN (Attempts left: 3):  494994\n"
     ]
    },
    {
     "name": "stdout",
     "output_type": "stream",
     "text": [
      "PIN must be exactly 4 digits!\n"
     ]
    },
    {
     "name": "stdin",
     "output_type": "stream",
     "text": [
      "Enter your PIN (Attempts left: 3):  4949\n"
     ]
    },
    {
     "name": "stdout",
     "output_type": "stream",
     "text": [
      "Wrong PIN! 2 attempts remaining.\n"
     ]
    },
    {
     "name": "stdin",
     "output_type": "stream",
     "text": [
      "Enter your PIN (Attempts left: 2):  1999\n"
     ]
    },
    {
     "name": "stdout",
     "output_type": "stream",
     "text": [
      "Wrong PIN! 1 attempts remaining.\n"
     ]
    },
    {
     "name": "stdin",
     "output_type": "stream",
     "text": [
      "Enter your PIN (Attempts left: 1):  4229\n"
     ]
    },
    {
     "name": "stdout",
     "output_type": "stream",
     "text": [
      "PIN Correct! ATM card unlocked.\n",
      "You can now proceed with your transaction.\n"
     ]
    }
   ],
   "source": [
    "def atm_pin_game():\n",
    "    import random\n",
    "    print(\"ATM PIN Security Game\")\n",
    "    print(\"Your ATM card has been temporarily locked.\")\n",
    "    print(\"Guess your 4-digit PIN to unlock (3 attempts only)\")\n",
    "    # Generate random PIN\n",
    "    correct_pin = random.randint(1000, 9999)\n",
    "    attempts = 3\n",
    "    print(f\"Hint: Your PIN is {correct_pin}\")  # Remove this line in real ATM!\n",
    "    while attempts > 0:\n",
    "        try:\n",
    "            user_pin = int(input(f\"Enter your PIN (Attempts left: {attempts}): \"))\n",
    "            if len(str(user_pin)) != 4:\n",
    "                print(\"PIN must be exactly 4 digits!\")\n",
    "                continue\n",
    "            if user_pin == correct_pin:\n",
    "                print(\"PIN Correct! ATM card unlocked.\")\n",
    "                print(\"You can now proceed with your transaction.\")\n",
    "                break\n",
    "            else:\n",
    "                attempts -= 1\n",
    "                if attempts > 0:\n",
    "                    print(f\"Wrong PIN! {attempts} attempts remaining.\")\n",
    "                else:\n",
    "                    print(\"Too many incorrect attempts detected.\")\n",
    "                    print(\"Card blocked! Visit your bank branch.\")\n",
    "        except ValueError:\n",
    "            print(\"Please enter a valid 4-digit number!\")\n",
    "atm_pin_game()"
   ]
  },
  {
   "cell_type": "markdown",
   "id": "61df1c55-6b4f-44e1-b2ec-6ccc5cf766f8",
   "metadata": {},
   "source": [
    "# Student Report Card"
   ]
  },
  {
   "cell_type": "code",
   "execution_count": 10,
   "id": "548111e0-b9b3-46bb-a734-ee8f2bba7098",
   "metadata": {},
   "outputs": [
    {
     "name": "stdout",
     "output_type": "stream",
     "text": [
      "STUDENT REPORT CARD\n",
      "========================================\n",
      "Student Name: Jasmeet Singh\n",
      "Academic Year: 2024-25\n",
      "----------------------------------------\n",
      "SUBJECT-WISE PERFORMANCE:\n",
      "----------------------------------------\n",
      "Mathematics    :  95/100 and Grade: A+\n",
      "Science        :  92/100 and Grade: A+\n",
      "English        :  78/100 and Grade: B+\n",
      "Hindi          :  88/100 and Grade: A\n",
      "Social Studies :  85/100 and Grade: A\n",
      "----------------------------------------\n",
      "Total Marks: 438/500\n",
      "Percentage: 87.60%\n",
      "Result: FIRST CLASS\n",
      "========================================\n"
     ]
    }
   ],
   "source": [
    "def student_report(name, subjects_marks):\n",
    "    # Generate comprehensive student report\n",
    "    # subjects_marks: dictionary with subject names as keys\n",
    "    print(\"STUDENT REPORT CARD\")\n",
    "    print(\"=\"*40)\n",
    "    print(f\"Student Name: {name}\")\n",
    "    print(f\"Academic Year: 2024-25\")\n",
    "    print(\"-\"*40)\n",
    "    total_marks = 0\n",
    "    max_marks = len(subjects_marks) * 100\n",
    "    print(\"SUBJECT-WISE PERFORMANCE:\")\n",
    "    print(\"-\"*40)\n",
    "    for subject, marks in subjects_marks.items():\n",
    "        total_marks += marks\n",
    "        # Grade calculation\n",
    "        if marks > 90:\n",
    "            grade = \"A+\"\n",
    "        elif marks > 80:\n",
    "            grade = \"A\"\n",
    "        elif marks > 70:\n",
    "            grade = \"B+\"\n",
    "        elif marks > 60:\n",
    "            grade = \"B\"\n",
    "        elif marks >= 50:\n",
    "            grade = \"C\"\n",
    "        else:\n",
    "            grade = \"F\"\n",
    "        print(f\"{subject:<15}: {marks:>3}/100 and Grade: {grade}\")\n",
    "    percentage = (total_marks / max_marks) * 100\n",
    "    print(\"-\"*40)\n",
    "    print(f\"Total Marks: {total_marks}/{max_marks}\")\n",
    "    print(f\"Percentage: {percentage:.2f}%\")\n",
    "    if percentage >= 90:\n",
    "        result = \"DISTINCTION\"\n",
    "    elif percentage >= 75:\n",
    "        result = \"FIRST CLASS\"\n",
    "    elif percentage >= 60:\n",
    "        result = \"SECOND CLASS\"\n",
    "    elif percentage >= 50:\n",
    "        result = \"THIRD CLASS\"\n",
    "    else:\n",
    "        result = \"FAIL\"\n",
    "    print(f\"Result: {result}\")\n",
    "    print(\"=\"*40)\n",
    "\n",
    "# Example usage\n",
    "student_marks = {\n",
    "    \"Mathematics\": 95,\n",
    "    \"Science\": 92,\n",
    "    \"English\": 78,\n",
    "    \"Hindi\": 88,\n",
    "    \"Social Studies\": 85,\n",
    "}\n",
    "\n",
    "student_report(\"Jasmeet Singh\", student_marks)\n"
   ]
  },
  {
   "cell_type": "markdown",
   "id": "4baf6a6c-9a63-4f4e-9ba0-626b9f1d50a4",
   "metadata": {},
   "source": [
    "# Railway Seat Booking (Dictionary)"
   ]
  },
  {
   "cell_type": "code",
   "execution_count": 11,
   "id": "713e6f0d-4c09-4d10-a539-20217458b155",
   "metadata": {},
   "outputs": [
    {
     "name": "stdout",
     "output_type": "stream",
     "text": [
      "RAILWAY BOOKING SYSTEM\n",
      "Train: Rajdhani Express (12001)\n",
      "Route: New Delhi to Mumbai Central\n",
      "\n",
      "RAILWAY BOOKING MENU:\n",
      "1. View seat availability\n",
      "2. Book a seat\n",
      "3. Cancel booking\n",
      "4. Exit\n"
     ]
    },
    {
     "name": "stdin",
     "output_type": "stream",
     "text": [
      "Enter your choice (1-4):  1\n"
     ]
    },
    {
     "name": "stdout",
     "output_type": "stream",
     "text": [
      "\n",
      "SEAT AVAILABILITY:\n",
      "--------------------------------------------------\n",
      "Seat S1: AVAILABLE\n",
      "Seat S2: AVAILABLE\n",
      "Seat S3: AVAILABLE\n",
      "Seat S4: AVAILABLE\n",
      "Seat S5: AVAILABLE\n",
      "Seat S6: AVAILABLE\n",
      "Seat S7: AVAILABLE\n",
      "Seat S8: AVAILABLE\n",
      "Seat S9: AVAILABLE\n",
      "Seat S10: AVAILABLE\n",
      "Seat S11: AVAILABLE\n",
      "Seat S12: AVAILABLE\n",
      "Seat S13: AVAILABLE\n",
      "Seat S14: AVAILABLE\n",
      "Seat S15: AVAILABLE\n",
      "Seat S16: AVAILABLE\n",
      "Seat S17: AVAILABLE\n",
      "Seat S18: AVAILABLE\n",
      "Seat S19: AVAILABLE\n",
      "Seat S20: AVAILABLE\n",
      "--------------------------------------------------\n",
      "\n",
      "RAILWAY BOOKING MENU:\n",
      "1. View seat availability\n",
      "2. Book a seat\n",
      "3. Cancel booking\n",
      "4. Exit\n"
     ]
    },
    {
     "name": "stdin",
     "output_type": "stream",
     "text": [
      "Enter your choice (1-4):  2\n",
      "Enter seat number (S1-S20):  s20\n",
      "Enter passenger name:  Jasmeet Singh\n",
      "Enter passenger age:  19\n"
     ]
    },
    {
     "name": "stdout",
     "output_type": "stream",
     "text": [
      "Seat S20 booked successfully for Jasmeet Singh\n",
      "Ticket confirmed! Happy journey!\n",
      "\n",
      "RAILWAY BOOKING MENU:\n",
      "1. View seat availability\n",
      "2. Book a seat\n",
      "3. Cancel booking\n",
      "4. Exit\n"
     ]
    },
    {
     "name": "stdin",
     "output_type": "stream",
     "text": [
      "Enter your choice (1-4):  3\n",
      "Enter seat number to cancel:  s15\n"
     ]
    },
    {
     "name": "stdout",
     "output_type": "stream",
     "text": [
      "Seat S15 is not booked!\n",
      "\n",
      "RAILWAY BOOKING MENU:\n",
      "1. View seat availability\n",
      "2. Book a seat\n",
      "3. Cancel booking\n",
      "4. Exit\n"
     ]
    },
    {
     "name": "stdin",
     "output_type": "stream",
     "text": [
      "Enter your choice (1-4):  4\n"
     ]
    },
    {
     "name": "stdout",
     "output_type": "stream",
     "text": [
      "Thank you for using Indian Railway Booking System!\n"
     ]
    }
   ],
   "source": [
    "def railway_booking_system():\n",
    "    print(\"RAILWAY BOOKING SYSTEM\")\n",
    "    print(\"Train: Rajdhani Express (12001)\")\n",
    "    print(\"Route: New Delhi to Mumbai Central\")\n",
    "    #\n",
    "    seats = {}\n",
    "    for i in range(1, 21):\n",
    "        seats[f\"S{i}\"] = None  # None means available\n",
    "    \n",
    "    def display_seats():\n",
    "        print(\"\\nSEAT AVAILABILITY:\")\n",
    "        print(\"-\"*50)\n",
    "        for seat_no, passenger in seats.items():\n",
    "            status = \"AVAILABLE\" if passenger is None else f\"BOOKED ({passenger})\"\n",
    "            print(f\"Seat {seat_no}: {status}\")\n",
    "        print(\"-\"*50)\n",
    "    \n",
    "    def book_seat():\n",
    "        seat_no = input(\"Enter seat number (S1-S20): \").upper()\n",
    "        if seat_no not in seats:\n",
    "            print(\"Invalid seat number!\")\n",
    "            return\n",
    "        if seats[seat_no] is not None:\n",
    "            print(f\"Seat {seat_no} is already booked by {seats[seat_no]}\")\n",
    "            return\n",
    "        passenger_name = input(\"Enter passenger name: \")\n",
    "        age = int(input(\"Enter passenger age: \"))\n",
    "        if age < 5:\n",
    "            print(\"Child ticket - No separate seat required\")\n",
    "            return\n",
    "        seats[seat_no] = passenger_name\n",
    "        print(f\"Seat {seat_no} booked successfully for {passenger_name}\")\n",
    "        print(\"Ticket confirmed! Happy journey!\")\n",
    "    \n",
    "    def cancel_booking():\n",
    "        seat_no = input(\"Enter seat number to cancel: \").upper()\n",
    "        if seat_no not in seats:\n",
    "            print(\"Invalid seat number!\")\n",
    "            return\n",
    "        if seats[seat_no] is None:\n",
    "            print(f\"Seat {seat_no} is not booked!\")\n",
    "            return\n",
    "        passenger_name = seats[seat_no]\n",
    "        seats[seat_no] = None\n",
    "        print(f\"Booking cancelled for {passenger_name}\")\n",
    "        print(\"Refund will be processed in 5-7 days\")\n",
    "    \n",
    "    # Main booking loop\n",
    "    while True:\n",
    "        print(\"\\nRAILWAY BOOKING MENU:\")\n",
    "        print(\"1. View seat availability\")\n",
    "        print(\"2. Book a seat\")\n",
    "        print(\"3. Cancel booking\")\n",
    "        print(\"4. Exit\")\n",
    "        choice = input(\"Enter your choice (1-4): \")\n",
    "        if choice == \"1\":\n",
    "            display_seats()\n",
    "        elif choice == \"2\":\n",
    "            book_seat()\n",
    "        elif choice == \"3\":\n",
    "            cancel_booking()\n",
    "        elif choice == \"4\":\n",
    "            print(\"Thank you for using Indian Railway Booking System!\")\n",
    "            break\n",
    "        else:\n",
    "            print(\"Invalid choice! Please try again.\")\n",
    "\n",
    "# Run the booking system\n",
    "railway_booking_system()\n"
   ]
  },
  {
   "cell_type": "code",
   "execution_count": null,
   "id": "a1977afa-dbe5-4025-bd0a-259e1b54c739",
   "metadata": {},
   "outputs": [],
   "source": []
  },
  {
   "cell_type": "code",
   "execution_count": null,
   "id": "215f323e-537a-4a33-9b2b-b85250e89269",
   "metadata": {},
   "outputs": [],
   "source": []
  }
 ],
 "metadata": {
  "kernelspec": {
   "display_name": "Python [conda env:base] *",
   "language": "python",
   "name": "conda-base-py"
  },
  "language_info": {
   "codemirror_mode": {
    "name": "ipython",
    "version": 3
   },
   "file_extension": ".py",
   "mimetype": "text/x-python",
   "name": "python",
   "nbconvert_exporter": "python",
   "pygments_lexer": "ipython3",
   "version": "3.13.5"
  }
 },
 "nbformat": 4,
 "nbformat_minor": 5
}
