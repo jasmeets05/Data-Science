{
 "cells": [
  {
   "cell_type": "code",
   "execution_count": 1,
   "id": "602711f7-7ba6-4b71-8910-04da02c796e4",
   "metadata": {},
   "outputs": [],
   "source": [
    "class IITM:\n",
    "    def intro():\n",
    "        print('hello buddy, how are you?')\n",
    "    def say_hello():\n",
    "        print('hello')\n",
    "    def bye():\n",
    "        print('bye bye')"
   ]
  },
  {
   "cell_type": "code",
   "execution_count": 2,
   "id": "ace31602-81a2-45bb-9796-d6d9867e48d6",
   "metadata": {},
   "outputs": [
    {
     "name": "stdout",
     "output_type": "stream",
     "text": [
      "<class 'int'>\n"
     ]
    }
   ],
   "source": [
    "a = int(45)\n",
    "print(type(a))"
   ]
  },
  {
   "cell_type": "code",
   "execution_count": 3,
   "id": "0d8dfda5-ce6f-4553-a82f-422daa885479",
   "metadata": {},
   "outputs": [
    {
     "name": "stdout",
     "output_type": "stream",
     "text": [
      "<class '__main__.IITM'>\n"
     ]
    }
   ],
   "source": [
    "ayan = IITM()\n",
    "print(type(ayan))"
   ]
  },
  {
   "cell_type": "code",
   "execution_count": 62,
   "id": "695ea855-656d-42eb-baba-5fc75bc36238",
   "metadata": {},
   "outputs": [],
   "source": [
    "class remote:\n",
    "    def __init__(self):  #class constructor, #magic method , dunder method, #initialization, # special method\n",
    "        print('object has been created with class remote')\n",
    "        print('now you can use it')\n",
    "\n",
    "    def volume_up(self):\n",
    "        print('volume up by 1 unit')\n",
    "\n",
    "    def volume_down(self):\n",
    "        print('volume down by 1 unit')\n",
    "\n",
    "    def power_on(self):\n",
    "        print('tv is on')\n",
    "\n",
    "    def power_off(self):\n",
    "        print('tv is off')\n",
    "    def auto_suggest_channel(self):\n",
    "        import time\n",
    "        print('searching trending channel')\n",
    "        time.sleep(3)\n",
    "        print ('youtube vr')\n",
    "\n",
    "    def __del__(self):\n",
    "        print('object has been deleted successfully')\n",
    "\n",
    "    "
   ]
  },
  {
   "cell_type": "code",
   "execution_count": 63,
   "id": "a4b9e1aa-5647-479f-9e86-253f5709c064",
   "metadata": {},
   "outputs": [
    {
     "name": "stdout",
     "output_type": "stream",
     "text": [
      "object has been created with class remote\n",
      "now you can use it\n",
      "object has been deleted successfully\n",
      "done\n"
     ]
    }
   ],
   "source": [
    "mi = remote()\n",
    "print('done')"
   ]
  },
  {
   "cell_type": "code",
   "execution_count": 64,
   "id": "fd2a3fc3-752f-45c2-8a0b-1c0172f1e258",
   "metadata": {},
   "outputs": [
    {
     "name": "stdout",
     "output_type": "stream",
     "text": [
      "tv is on\n"
     ]
    }
   ],
   "source": [
    "mi.power_on()"
   ]
  },
  {
   "cell_type": "code",
   "execution_count": 65,
   "id": "9a8159b2-2744-455f-8b2b-aeea8d9cd881",
   "metadata": {},
   "outputs": [
    {
     "name": "stdout",
     "output_type": "stream",
     "text": [
      "volume down by 1 unit\n"
     ]
    }
   ],
   "source": [
    "mi.volume_down()\n"
   ]
  },
  {
   "cell_type": "code",
   "execution_count": 66,
   "id": "48603095-bad5-4f2a-bfc6-662d33631fa6",
   "metadata": {},
   "outputs": [
    {
     "name": "stdout",
     "output_type": "stream",
     "text": [
      "volume up by 1 unit\n"
     ]
    }
   ],
   "source": [
    "mi.volume_up()"
   ]
  },
  {
   "cell_type": "code",
   "execution_count": 67,
   "id": "82617dfa-8aad-408f-94f6-4ebed61dd57c",
   "metadata": {},
   "outputs": [
    {
     "name": "stdout",
     "output_type": "stream",
     "text": [
      "tv is off\n"
     ]
    }
   ],
   "source": [
    "mi.power_off()"
   ]
  },
  {
   "cell_type": "code",
   "execution_count": 68,
   "id": "2117daf1-d2fc-4776-bb97-704050436416",
   "metadata": {},
   "outputs": [
    {
     "name": "stdout",
     "output_type": "stream",
     "text": [
      "searching trending channel\n",
      "youtube vr\n"
     ]
    }
   ],
   "source": [
    " mi.auto_suggest_channel()"
   ]
  },
  {
   "cell_type": "code",
   "execution_count": 69,
   "id": "fb65c3c6-569d-40b3-9a8f-acaaaa02fb97",
   "metadata": {},
   "outputs": [
    {
     "name": "stdout",
     "output_type": "stream",
     "text": [
      "object has been deleted successfully\n"
     ]
    }
   ],
   "source": [
    "del(mi)"
   ]
  },
  {
   "cell_type": "code",
   "execution_count": 3,
   "id": "1dfdc211-d583-4225-9a7b-a2e703b33771",
   "metadata": {},
   "outputs": [],
   "source": [
    "class  CAR:\n",
    "    def __init__(self):\n",
    "        #instance variables\n",
    "        self.color = 'black'\n",
    "        self.wheel = 4\n",
    "        self.spare_wheel = 1\n",
    "        self.airbag_support = True\n",
    "        self.fuel_type = 'petrol'\n",
    "        self.car_type = 'seddan'\n",
    "        self.gear_type = 'manual'\n",
    "        print('our car is ready')\n",
    "\n",
    "#==========================================================================================================================\n",
    "    #features\n",
    "    def auto_park(self):\n",
    "        import IPython\n",
    "        url = '''https://media.tenor.com/L8E-me3GYeQAAAAM/meeting-bad-parking.gif'''\n",
    "        display(IPython.display.Image(url))\n",
    "\n",
    "    def engine_on(self):\n",
    "        pass\n",
    "        #pygame.init()\n",
    "        #path = '''‪C:\\Users\\Jass\\Downloads\\engine-61234.mp3'''\n",
    "        #music = pygame.mixer.Sound(path)\n",
    "        #music.play()\n",
    "\n",
    "    def speed_up(self):\n",
    "        c = 10\n",
    "        while 10 <= 200:\n",
    "            print(f'speed is increasing by {c} km/hr')\n",
    "            c += 10\n",
    "            display(clear = True)\n",
    "            time.sleep(0.5)\n",
    "            if c >= 200:\n",
    "                print ('you are crossing speed limit , but its growth hihihi')\n",
    "                break\n",
    "    def drift_brake(self,drift = False):\n",
    "        pass\n",
    "        #   import pygame\n",
    "         #   pygame.init()\n",
    "          #  path = '''C:\\Users\\Jass\\Downloads\\engine-61234.mp3'''\n",
    "           # music = pygame.mixer.Sound(path)\n",
    "            #msic.play()\n",
    "        #else:\n",
    "         #   print('brake applied') \n",
    "        \n",
    "        "
   ]
  },
  {
   "cell_type": "code",
   "execution_count": 4,
   "id": "4faaad7f-5444-40a0-ab61-09035c20f7cf",
   "metadata": {},
   "outputs": [
    {
     "name": "stdout",
     "output_type": "stream",
     "text": [
      "our car is ready\n"
     ]
    }
   ],
   "source": [
    "BMW = CAR()"
   ]
  },
  {
   "cell_type": "code",
   "execution_count": 6,
   "id": "cf649388-1d06-40c2-9b3a-9bb20f9008d7",
   "metadata": {},
   "outputs": [
    {
     "data": {
      "text/plain": [
       "True"
      ]
     },
     "execution_count": 6,
     "metadata": {},
     "output_type": "execute_result"
    }
   ],
   "source": [
    "BMW.airbag_support"
   ]
  },
  {
   "cell_type": "code",
   "execution_count": 7,
   "id": "ca5ff532-0fb6-48ca-979c-69c1c1f4cb34",
   "metadata": {},
   "outputs": [
    {
     "data": {
      "text/plain": [
       "'black'"
      ]
     },
     "execution_count": 7,
     "metadata": {},
     "output_type": "execute_result"
    }
   ],
   "source": [
    "BMW.color"
   ]
  },
  {
   "cell_type": "code",
   "execution_count": 8,
   "id": "849d1275-fc34-49c2-a634-2c78763deb87",
   "metadata": {},
   "outputs": [
    {
     "data": {
      "text/plain": [
       "'manual'"
      ]
     },
     "execution_count": 8,
     "metadata": {},
     "output_type": "execute_result"
    }
   ],
   "source": [
    "BMW.gear_type\n"
   ]
  },
  {
   "cell_type": "code",
   "execution_count": 10,
   "id": "3344f917-8b1c-48be-8bdc-873266ac82d5",
   "metadata": {},
   "outputs": [],
   "source": [
    "class ATM:\n",
    "    def __init__(self):\n",
    "        print('object created successfully')\n",
    "        self.pin = 111  #publiv variable\n",
    "        self.balance = 2000   #public variable\n",
    "\n",
    "    def change_pin(self):  #public variable\n",
    "        self.pin = input('enter new pin: ')\n",
    "        print('your pin has been changed')\n",
    "\n",
    "    def show_balance(self):\n",
    "        print(f'''your current balance is Rs {self.balance}''')\n",
    "\n",
    "    def ATM_performance_status(self):\n",
    "        print('ATM working fine 100%')"
   ]
  },
  {
   "cell_type": "code",
   "execution_count": 11,
   "id": "efd8788c-1608-4ed8-9679-2588fcf02714",
   "metadata": {},
   "outputs": [
    {
     "name": "stdout",
     "output_type": "stream",
     "text": [
      "object created successfully\n"
     ]
    }
   ],
   "source": [
    "icici = ATM()"
   ]
  },
  {
   "cell_type": "markdown",
   "id": "a537a5d2-f9df-487c-b9a3-d62c5c9f1507",
   "metadata": {},
   "source": [
    "icici."
   ]
  },
  {
   "cell_type": "code",
   "execution_count": 12,
   "id": "31647654-c3be-4c41-b1ee-543af6f89754",
   "metadata": {},
   "outputs": [
    {
     "name": "stdout",
     "output_type": "stream",
     "text": [
      "your current balance is Rs 2000\n"
     ]
    }
   ],
   "source": [
    "icici.show_balance()"
   ]
  },
  {
   "cell_type": "code",
   "execution_count": 14,
   "id": "ec236663-3004-470e-bb6b-25dea661dbee",
   "metadata": {},
   "outputs": [
    {
     "data": {
      "text/plain": [
       "2000"
      ]
     },
     "execution_count": 14,
     "metadata": {},
     "output_type": "execute_result"
    }
   ],
   "source": [
    "icici.balance"
   ]
  },
  {
   "cell_type": "code",
   "execution_count": 15,
   "id": "d2ff3d16-a129-494e-bc7b-330726512fb1",
   "metadata": {},
   "outputs": [
    {
     "name": "stdout",
     "output_type": "stream",
     "text": [
      "ATM working fine 100%\n"
     ]
    }
   ],
   "source": [
    "icici.ATM_performance_status()"
   ]
  },
  {
   "cell_type": "code",
   "execution_count": 19,
   "id": "ae30b275-f5a3-4663-9428-fc0a29ad5509",
   "metadata": {},
   "outputs": [],
   "source": [
    "class ATM_ver1:\n",
    "    def __init__(self):\n",
    "        print('object created successfully')\n",
    "        self._pin = 111        #protected variable\n",
    "        self._balance = 2000    #protected variable\n",
    "\n",
    "    def change_pin(self):\n",
    "        self.pin = input('enter new pin: ')\n",
    "        print('your pin has been changed')\n",
    "\n",
    "    def show_balance(self):\n",
    "        print(f'''your current balance is Rs {self.balance}''')\n",
    "\n",
    "    def ATM_performance_status(self):\n",
    "        print('ATM working fine 100%')"
   ]
  },
  {
   "cell_type": "code",
   "execution_count": 20,
   "id": "085616fc-6c50-4995-8461-0809e78edb51",
   "metadata": {},
   "outputs": [
    {
     "name": "stdin",
     "output_type": "stream",
     "text": [
      "enter new pin:  2005\n"
     ]
    },
    {
     "name": "stdout",
     "output_type": "stream",
     "text": [
      "your pin has been changed\n"
     ]
    }
   ],
   "source": [
    "icici.change_pin()"
   ]
  },
  {
   "cell_type": "code",
   "execution_count": 22,
   "id": "d1e9b2b7-a7ae-40de-a0e8-cbea36a039ba",
   "metadata": {},
   "outputs": [
    {
     "name": "stdout",
     "output_type": "stream",
     "text": [
      "object created successfully\n"
     ]
    }
   ],
   "source": [
    "axis = ATM_ver1()"
   ]
  },
  {
   "cell_type": "code",
   "execution_count": 23,
   "id": "f3d69624-427f-4c7f-9dd7-d6ad30e29a97",
   "metadata": {},
   "outputs": [
    {
     "name": "stdout",
     "output_type": "stream",
     "text": [
      "ATM working fine 100%\n"
     ]
    }
   ],
   "source": [
    "axis.ATM_performance_status()"
   ]
  },
  {
   "cell_type": "code",
   "execution_count": 24,
   "id": "24e07b56-41ca-49bf-b614-0eef13ab4265",
   "metadata": {},
   "outputs": [
    {
     "data": {
      "text/plain": [
       "111"
      ]
     },
     "execution_count": 24,
     "metadata": {},
     "output_type": "execute_result"
    }
   ],
   "source": [
    "axis._pin"
   ]
  },
  {
   "cell_type": "code",
   "execution_count": 30,
   "id": "77c3d239-dffa-48cb-b804-171a5065e2f6",
   "metadata": {},
   "outputs": [],
   "source": [
    "class ATM_ver2:\n",
    "    def __init__(self):\n",
    "        print('object created successfully')\n",
    "        self.__pin = 111        #private variable\n",
    "        self.__balance = 2000    #private variable\n",
    "\n",
    "    def change_pin(self):\n",
    "        self.__pin = input('enter new pin: ')    #private variable\n",
    "        print('your pin has been changed')\n",
    "\n",
    "    def show_balance(self):\n",
    "        print(f'''your current balance is Rs {self.balance}''')\n",
    "\n",
    "    def __ATM_performance_status(self):   #private variable\n",
    "        print('ATM working fine 100%')"
   ]
  },
  {
   "cell_type": "code",
   "execution_count": 31,
   "id": "497cece9-5891-4d84-b812-767164e95c2f",
   "metadata": {},
   "outputs": [
    {
     "name": "stdout",
     "output_type": "stream",
     "text": [
      "object created successfully\n"
     ]
    }
   ],
   "source": [
    "hdfc = ATM_ver2()"
   ]
  },
  {
   "cell_type": "code",
   "execution_count": 33,
   "id": "9af4604a-e53f-4c0a-891a-d85262172c31",
   "metadata": {},
   "outputs": [
    {
     "data": {
      "text/plain": [
       "111"
      ]
     },
     "execution_count": 33,
     "metadata": {},
     "output_type": "execute_result"
    }
   ],
   "source": [
    "hdfc._ATM_ver2__pin"
   ]
  },
  {
   "cell_type": "code",
   "execution_count": 34,
   "id": "b4a7e865-5461-41a5-843a-5ad5cb649f67",
   "metadata": {},
   "outputs": [
    {
     "data": {
      "text/plain": [
       "2000"
      ]
     },
     "execution_count": 34,
     "metadata": {},
     "output_type": "execute_result"
    }
   ],
   "source": [
    "hdfc._ATM_ver2__balance"
   ]
  },
  {
   "cell_type": "code",
   "execution_count": null,
   "id": "e7d0b517-6bd9-4417-afff-4f0bb5470d51",
   "metadata": {},
   "outputs": [],
   "source": []
  }
 ],
 "metadata": {
  "kernelspec": {
   "display_name": "Python [conda env:base] *",
   "language": "python",
   "name": "conda-base-py"
  },
  "language_info": {
   "codemirror_mode": {
    "name": "ipython",
    "version": 3
   },
   "file_extension": ".py",
   "mimetype": "text/x-python",
   "name": "python",
   "nbconvert_exporter": "python",
   "pygments_lexer": "ipython3",
   "version": "3.13.5"
  }
 },
 "nbformat": 4,
 "nbformat_minor": 5
}
