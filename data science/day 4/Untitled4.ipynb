{
 "cells": [
  {
   "cell_type": "code",
   "execution_count": null,
   "id": "3d6ec140-390d-4b1b-b712-610f9e5e632c",
   "metadata": {},
   "outputs": [],
   "source": []
  },
  {
   "cell_type": "code",
   "execution_count": 1,
   "id": "d491bf99-907d-48c6-884f-66684946bc2c",
   "metadata": {},
   "outputs": [
    {
     "name": "stdout",
     "output_type": "stream",
     "text": [
      "This is jasmeet singh Module in Python\n",
      "Info: https://www.google.com/\n",
      "done\n"
     ]
    }
   ],
   "source": [
    "import js as j\n",
    "print('done')"
   ]
  },
  {
   "cell_type": "code",
   "execution_count": 2,
   "id": "952537de-dce0-4618-bd4b-b9b2146f7c70",
   "metadata": {},
   "outputs": [
    {
     "data": {
      "text/plain": [
       "'Not a Plaindrome'"
      ]
     },
     "execution_count": 2,
     "metadata": {},
     "output_type": "execute_result"
    }
   ],
   "source": [
    "j.check_palindrome('vr')"
   ]
  },
  {
   "cell_type": "raw",
   "id": "5390e6dd-dbf1-47ec-90d4-f8c746da57f3",
   "metadata": {},
   "source": [
    "\n",
    "print('done')"
   ]
  },
  {
   "cell_type": "code",
   "execution_count": 3,
   "id": "9754f255-2022-4f28-8e3b-64ee3a806a89",
   "metadata": {},
   "outputs": [
    {
     "name": "stdout",
     "output_type": "stream",
     "text": [
      "done\n"
     ]
    }
   ],
   "source": [
    "import js as j\n",
    "print('done')"
   ]
  },
  {
   "cell_type": "code",
   "execution_count": 4,
   "id": "3d3f198d-32d6-4212-92e4-ba7672e10df5",
   "metadata": {},
   "outputs": [
    {
     "data": {
      "text/plain": [
       "'Prime Number'"
      ]
     },
     "execution_count": 4,
     "metadata": {},
     "output_type": "execute_result"
    }
   ],
   "source": [
    "j.check_prime(67)"
   ]
  },
  {
   "cell_type": "code",
   "execution_count": 5,
   "id": "63e129f5-0d57-449a-922d-d8d58c633656",
   "metadata": {},
   "outputs": [
    {
     "name": "stdout",
     "output_type": "stream",
     "text": [
      "pygame 2.6.1 (SDL 2.28.4, Python 3.13.5)\n",
      "Hello from the pygame community. https://www.pygame.org/contribute.html\n"
     ]
    }
   ],
   "source": [
    "j.sound_box(100000000000000)"
   ]
  },
  {
   "cell_type": "code",
   "execution_count": 6,
   "id": "48edebf3-3e0a-4a4f-adc5-ce1944a7ec81",
   "metadata": {},
   "outputs": [
    {
     "name": "stdout",
     "output_type": "stream",
     "text": [
      "         $ \n",
      "        $ $ \n",
      "       $ $ $ \n",
      "      $ $ $ $ \n",
      "     $ $ $ $ $ \n",
      "    $ $ $ $ $ $ \n",
      "   $ $ $ $ $ $ $ \n",
      "  $ $ $ $ $ $ $ $ \n",
      " $ $ $ $ $ $ $ $ $ \n",
      "$ $ $ $ $ $ $ $ $ $ \n"
     ]
    }
   ],
   "source": [
    "j.print_star(n=10, typ='mid',shape = '$')"
   ]
  },
  {
   "cell_type": "code",
   "execution_count": 7,
   "id": "73ce8aed-b013-45b4-959d-e18f88aecf5f",
   "metadata": {},
   "outputs": [
    {
     "data": {
      "text/plain": [
       "40320"
      ]
     },
     "execution_count": 7,
     "metadata": {},
     "output_type": "execute_result"
    }
   ],
   "source": [
    "j.factorial(8)"
   ]
  },
  {
   "cell_type": "code",
   "execution_count": 8,
   "id": "fddecb89-ba83-49bc-884d-fe6b0607eeeb",
   "metadata": {},
   "outputs": [
    {
     "data": {
      "text/plain": [
       "[0, 1, 1, 2, 3, 5, 8]"
      ]
     },
     "execution_count": 8,
     "metadata": {},
     "output_type": "execute_result"
    }
   ],
   "source": [
    "j.give_fibo(7)"
   ]
  },
  {
   "cell_type": "code",
   "execution_count": null,
   "id": "4c710521-f0db-47f3-87fb-833ddf120f92",
   "metadata": {},
   "outputs": [],
   "source": [
    "j."
   ]
  },
  {
   "cell_type": "code",
   "execution_count": 10,
   "id": "a6b2225b-f4fa-45df-9d3e-521eb048b61b",
   "metadata": {},
   "outputs": [
    {
     "name": "stdout",
     "output_type": "stream",
     "text": [
      "done\n"
     ]
    }
   ],
   "source": [
    "from js import minn\n",
    "print('done')"
   ]
  },
  {
   "cell_type": "code",
   "execution_count": 11,
   "id": "4e4b3356-d932-4528-82db-81f86c0cf752",
   "metadata": {},
   "outputs": [
    {
     "data": {
      "text/plain": [
       "0.1"
      ]
     },
     "execution_count": 11,
     "metadata": {},
     "output_type": "execute_result"
    }
   ],
   "source": [
    "minn(55,6,77,8888,1,0.1)"
   ]
  },
  {
   "cell_type": "code",
   "execution_count": 17,
   "id": "561c386b-f2ba-422f-80e5-b65ac20273b8",
   "metadata": {},
   "outputs": [
    {
     "name": "stdout",
     "output_type": "stream",
     "text": [
      "done\n"
     ]
    }
   ],
   "source": [
    "from js import *\n",
    "print('done')"
   ]
  },
  {
   "cell_type": "code",
   "execution_count": 16,
   "id": "95f4ef88-218d-4c07-babf-5aef87d9e09c",
   "metadata": {},
   "outputs": [
    {
     "data": {
      "text/html": [
       "<div>\n",
       "<style scoped>\n",
       "    .dataframe tbody tr th:only-of-type {\n",
       "        vertical-align: middle;\n",
       "    }\n",
       "\n",
       "    .dataframe tbody tr th {\n",
       "        vertical-align: top;\n",
       "    }\n",
       "\n",
       "    .dataframe thead th {\n",
       "        text-align: right;\n",
       "    }\n",
       "</style>\n",
       "<table border=\"1\" class=\"dataframe\">\n",
       "  <thead>\n",
       "    <tr style=\"text-align: right;\">\n",
       "      <th></th>\n",
       "      <th>name</th>\n",
       "      <th>age</th>\n",
       "      <th>sec</th>\n",
       "      <th>address</th>\n",
       "    </tr>\n",
       "  </thead>\n",
       "  <tbody>\n",
       "    <tr>\n",
       "      <th>1</th>\n",
       "      <td>veer</td>\n",
       "      <td>19</td>\n",
       "      <td>m2</td>\n",
       "      <td>delhi</td>\n",
       "    </tr>\n",
       "  </tbody>\n",
       "</table>\n",
       "</div>"
      ],
      "text/plain": [
       "   name  age sec address\n",
       "1  veer   19  m2   delhi"
      ]
     },
     "execution_count": 16,
     "metadata": {},
     "output_type": "execute_result"
    }
   ],
   "source": [
    "student_records(name = 'veer' ,age = 19 ,sec = 'm2' ,address = 'delhi')"
   ]
  },
  {
   "cell_type": "code",
   "execution_count": 18,
   "id": "c4f21c3b-4f00-414c-8aee-ff31c119c90c",
   "metadata": {},
   "outputs": [
    {
     "data": {
      "text/plain": [
       "3828"
      ]
     },
     "execution_count": 18,
     "metadata": {},
     "output_type": "execute_result"
    }
   ],
   "source": [
    "sum_of_n_natural_numbers(87)"
   ]
  },
  {
   "cell_type": "code",
   "execution_count": 21,
   "id": "ef37f9a6-e9ed-44da-9726-a3245cf246db",
   "metadata": {},
   "outputs": [
    {
     "name": "stdout",
     "output_type": "stream",
     "text": [
      "done\n"
     ]
    }
   ],
   "source": [
    "import turtle\n",
    "print('done')\n",
    "turtle.speed"
   ]
  },
  {
   "cell_type": "code",
   "execution_count": 1,
   "id": "32614b78-4bdd-4ac9-9e18-4fc65c059408",
   "metadata": {},
   "outputs": [],
   "source": [
    "import turtle\n",
    "for i in range(100):\n",
    "    turtle.bgcolor('black')\n",
    "    turtle.speed(0)\n",
    "    col = ['red','black','white','blue']\n",
    "    import random\n",
    "    picked_color = random.choice(col)\n",
    "    turtle.color(picked_color)\n",
    "    turtle.circle(100)\n",
    "    turtle.left(2)\n",
    "    "
   ]
  },
  {
   "cell_type": "code",
   "execution_count": 1,
   "id": "380b94b3-75b8-4d23-bf8e-a798497efabd",
   "metadata": {},
   "outputs": [],
   "source": [
    "import turtle\n",
    "for i in range(8):\n",
    "    turtle.bgcolor('black')\n",
    "    turtle.color('cyan')\n",
    "    turtle.forward(300)\n",
    "    turtle.left(60)"
   ]
  },
  {
   "cell_type": "code",
   "execution_count": 57,
   "id": "4bda02ea-0734-4fa4-9a31-6ea292078538",
   "metadata": {
    "editable": true,
    "slideshow": {
     "slide_type": ""
    },
    "tags": []
   },
   "outputs": [
    {
     "name": "stdout",
     "output_type": "stream",
     "text": [
      "    word = word.upper()\n",
      "\n"
     ]
    }
   ],
   "source": [
    "f = open('js.py', mode = 'r')\n",
    "for i in range(10):\n",
    "    if i == 7:  #linne no. 8\n",
    "        print(f.readline())\n",
    "    else:\n",
    "        f.readline()"
   ]
  },
  {
   "cell_type": "code",
   "execution_count": 61,
   "id": "4a4a9700-a3c6-4a97-be31-f2aecf00f40f",
   "metadata": {},
   "outputs": [
    {
     "name": "stdout",
     "output_type": "stream",
     "text": [
      "donnnneeeee\n"
     ]
    }
   ],
   "source": [
    "f = open('js.py', mode = 'r')\n",
    "data = f.readlines()\n",
    "f.close()\n",
    "print('donnnneeeee')"
   ]
  },
  {
   "cell_type": "code",
   "execution_count": 64,
   "id": "e22af317-4c58-44c6-9274-96df8fe06f7b",
   "metadata": {},
   "outputs": [
    {
     "data": {
      "text/plain": [
       "\"    text  = f'''{platform} par {paisa} rs Prapt hue.'''\\n\""
      ]
     },
     "execution_count": 64,
     "metadata": {},
     "output_type": "execute_result"
    }
   ],
   "source": [
    "data[100]"
   ]
  },
  {
   "cell_type": "code",
   "execution_count": 65,
   "id": "0d39748d-dd47-4da0-9d55-472e1f2b20bc",
   "metadata": {},
   "outputs": [
    {
     "data": {
      "text/plain": [
       "'    audio = gTTS(text)\\n'"
      ]
     },
     "execution_count": 65,
     "metadata": {},
     "output_type": "execute_result"
    }
   ],
   "source": [
    "data[101]"
   ]
  },
  {
   "cell_type": "code",
   "execution_count": 70,
   "id": "ddcd4d2f-508c-49d6-aa86-9553e0fca4be",
   "metadata": {},
   "outputs": [
    {
     "data": {
      "text/plain": [
       "['\\n', '    import pygame as p\\n']"
      ]
     },
     "execution_count": 70,
     "metadata": {},
     "output_type": "execute_result"
    }
   ],
   "source": [
    "data[103:105]"
   ]
  },
  {
   "cell_type": "raw",
   "id": "4fd1da94-cd23-4739-9fb8-e33ff30c4b68",
   "metadata": {},
   "source": []
  },
  {
   "cell_type": "code",
   "execution_count": null,
   "id": "19b120fb-2227-49f0-9320-8912818d4051",
   "metadata": {},
   "outputs": [],
   "source": []
  }
 ],
 "metadata": {
  "kernelspec": {
   "display_name": "Python [conda env:base] *",
   "language": "python",
   "name": "conda-base-py"
  },
  "language_info": {
   "codemirror_mode": {
    "name": "ipython",
    "version": 3
   },
   "file_extension": ".py",
   "mimetype": "text/x-python",
   "name": "python",
   "nbconvert_exporter": "python",
   "pygments_lexer": "ipython3",
   "version": "3.13.5"
  }
 },
 "nbformat": 4,
 "nbformat_minor": 5
}
